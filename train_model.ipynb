{
 "cells": [
  {
   "cell_type": "code",
   "execution_count": 32,
   "metadata": {},
   "outputs": [],
   "source": [
    "import pandas as pd\n",
    "from sklearn.model_selection import train_test_split\n",
    "from sklearn import ensemble\n",
    "from sklearn.metrics import mean_absolute_error\n",
    "from sklearn.externals import joblib"
   ]
  },
  {
   "cell_type": "code",
   "execution_count": 33,
   "metadata": {},
   "outputs": [],
   "source": [
    "# Load the data set\n",
    "df = pd.read_csv(\"ml_house_data_set.csv\")"
   ]
  },
  {
   "cell_type": "code",
   "execution_count": 34,
   "metadata": {},
   "outputs": [
    {
     "data": {
      "text/html": [
       "<div>\n",
       "<style scoped>\n",
       "    .dataframe tbody tr th:only-of-type {\n",
       "        vertical-align: middle;\n",
       "    }\n",
       "\n",
       "    .dataframe tbody tr th {\n",
       "        vertical-align: top;\n",
       "    }\n",
       "\n",
       "    .dataframe thead th {\n",
       "        text-align: right;\n",
       "    }\n",
       "</style>\n",
       "<table border=\"1\" class=\"dataframe\">\n",
       "  <thead>\n",
       "    <tr style=\"text-align: right;\">\n",
       "      <th></th>\n",
       "      <th>year_built</th>\n",
       "      <th>stories</th>\n",
       "      <th>num_bedrooms</th>\n",
       "      <th>full_bathrooms</th>\n",
       "      <th>half_bathrooms</th>\n",
       "      <th>livable_sqft</th>\n",
       "      <th>total_sqft</th>\n",
       "      <th>garage_type</th>\n",
       "      <th>garage_sqft</th>\n",
       "      <th>carport_sqft</th>\n",
       "      <th>has_fireplace</th>\n",
       "      <th>has_pool</th>\n",
       "      <th>has_central_heating</th>\n",
       "      <th>has_central_cooling</th>\n",
       "      <th>house_number</th>\n",
       "      <th>street_name</th>\n",
       "      <th>unit_number</th>\n",
       "      <th>city</th>\n",
       "      <th>zip_code</th>\n",
       "      <th>sale_price</th>\n",
       "    </tr>\n",
       "  </thead>\n",
       "  <tbody>\n",
       "    <tr>\n",
       "      <td>0</td>\n",
       "      <td>1978</td>\n",
       "      <td>1</td>\n",
       "      <td>4</td>\n",
       "      <td>1</td>\n",
       "      <td>1</td>\n",
       "      <td>1689</td>\n",
       "      <td>1859</td>\n",
       "      <td>attached</td>\n",
       "      <td>508</td>\n",
       "      <td>0</td>\n",
       "      <td>True</td>\n",
       "      <td>False</td>\n",
       "      <td>True</td>\n",
       "      <td>True</td>\n",
       "      <td>42670</td>\n",
       "      <td>Lopez Crossing</td>\n",
       "      <td>NaN</td>\n",
       "      <td>Hallfort</td>\n",
       "      <td>10907</td>\n",
       "      <td>270897.0</td>\n",
       "    </tr>\n",
       "    <tr>\n",
       "      <td>1</td>\n",
       "      <td>1958</td>\n",
       "      <td>1</td>\n",
       "      <td>3</td>\n",
       "      <td>1</td>\n",
       "      <td>1</td>\n",
       "      <td>1984</td>\n",
       "      <td>2002</td>\n",
       "      <td>attached</td>\n",
       "      <td>462</td>\n",
       "      <td>0</td>\n",
       "      <td>True</td>\n",
       "      <td>False</td>\n",
       "      <td>True</td>\n",
       "      <td>True</td>\n",
       "      <td>5194</td>\n",
       "      <td>Gardner Park</td>\n",
       "      <td>NaN</td>\n",
       "      <td>Hallfort</td>\n",
       "      <td>10907</td>\n",
       "      <td>302404.0</td>\n",
       "    </tr>\n",
       "    <tr>\n",
       "      <td>2</td>\n",
       "      <td>2002</td>\n",
       "      <td>1</td>\n",
       "      <td>3</td>\n",
       "      <td>2</td>\n",
       "      <td>0</td>\n",
       "      <td>1581</td>\n",
       "      <td>1578</td>\n",
       "      <td>none</td>\n",
       "      <td>0</td>\n",
       "      <td>625</td>\n",
       "      <td>False</td>\n",
       "      <td>False</td>\n",
       "      <td>True</td>\n",
       "      <td>True</td>\n",
       "      <td>4366</td>\n",
       "      <td>Harding Islands</td>\n",
       "      <td>NaN</td>\n",
       "      <td>Lake Christinaport</td>\n",
       "      <td>11203</td>\n",
       "      <td>2519996.0</td>\n",
       "    </tr>\n",
       "    <tr>\n",
       "      <td>3</td>\n",
       "      <td>2004</td>\n",
       "      <td>1</td>\n",
       "      <td>4</td>\n",
       "      <td>2</td>\n",
       "      <td>0</td>\n",
       "      <td>1829</td>\n",
       "      <td>2277</td>\n",
       "      <td>attached</td>\n",
       "      <td>479</td>\n",
       "      <td>0</td>\n",
       "      <td>True</td>\n",
       "      <td>False</td>\n",
       "      <td>True</td>\n",
       "      <td>True</td>\n",
       "      <td>3302</td>\n",
       "      <td>Michelle Highway</td>\n",
       "      <td>NaN</td>\n",
       "      <td>Lake Christinaport</td>\n",
       "      <td>11203</td>\n",
       "      <td>197193.0</td>\n",
       "    </tr>\n",
       "    <tr>\n",
       "      <td>4</td>\n",
       "      <td>2006</td>\n",
       "      <td>1</td>\n",
       "      <td>4</td>\n",
       "      <td>2</td>\n",
       "      <td>0</td>\n",
       "      <td>1580</td>\n",
       "      <td>1749</td>\n",
       "      <td>attached</td>\n",
       "      <td>430</td>\n",
       "      <td>0</td>\n",
       "      <td>True</td>\n",
       "      <td>False</td>\n",
       "      <td>True</td>\n",
       "      <td>True</td>\n",
       "      <td>582</td>\n",
       "      <td>Jacob Cape</td>\n",
       "      <td>NaN</td>\n",
       "      <td>Lake Christinaport</td>\n",
       "      <td>11203</td>\n",
       "      <td>207897.0</td>\n",
       "    </tr>\n",
       "    <tr>\n",
       "      <td>...</td>\n",
       "      <td>...</td>\n",
       "      <td>...</td>\n",
       "      <td>...</td>\n",
       "      <td>...</td>\n",
       "      <td>...</td>\n",
       "      <td>...</td>\n",
       "      <td>...</td>\n",
       "      <td>...</td>\n",
       "      <td>...</td>\n",
       "      <td>...</td>\n",
       "      <td>...</td>\n",
       "      <td>...</td>\n",
       "      <td>...</td>\n",
       "      <td>...</td>\n",
       "      <td>...</td>\n",
       "      <td>...</td>\n",
       "      <td>...</td>\n",
       "      <td>...</td>\n",
       "      <td>...</td>\n",
       "      <td>...</td>\n",
       "    </tr>\n",
       "    <tr>\n",
       "      <td>42698</td>\n",
       "      <td>1982</td>\n",
       "      <td>1</td>\n",
       "      <td>1</td>\n",
       "      <td>1</td>\n",
       "      <td>0</td>\n",
       "      <td>591</td>\n",
       "      <td>627</td>\n",
       "      <td>none</td>\n",
       "      <td>0</td>\n",
       "      <td>200</td>\n",
       "      <td>False</td>\n",
       "      <td>False</td>\n",
       "      <td>True</td>\n",
       "      <td>True</td>\n",
       "      <td>562</td>\n",
       "      <td>Gregory Ford</td>\n",
       "      <td>253.0</td>\n",
       "      <td>Lake Jack</td>\n",
       "      <td>10825</td>\n",
       "      <td>88197.0</td>\n",
       "    </tr>\n",
       "    <tr>\n",
       "      <td>42699</td>\n",
       "      <td>1983</td>\n",
       "      <td>1</td>\n",
       "      <td>1</td>\n",
       "      <td>1</td>\n",
       "      <td>0</td>\n",
       "      <td>592</td>\n",
       "      <td>624</td>\n",
       "      <td>none</td>\n",
       "      <td>0</td>\n",
       "      <td>204</td>\n",
       "      <td>False</td>\n",
       "      <td>False</td>\n",
       "      <td>True</td>\n",
       "      <td>True</td>\n",
       "      <td>62028</td>\n",
       "      <td>Gregory Ford</td>\n",
       "      <td>3560.0</td>\n",
       "      <td>Lake Jack</td>\n",
       "      <td>10825</td>\n",
       "      <td>102690.0</td>\n",
       "    </tr>\n",
       "    <tr>\n",
       "      <td>42700</td>\n",
       "      <td>1983</td>\n",
       "      <td>1</td>\n",
       "      <td>1</td>\n",
       "      <td>1</td>\n",
       "      <td>0</td>\n",
       "      <td>594</td>\n",
       "      <td>618</td>\n",
       "      <td>none</td>\n",
       "      <td>0</td>\n",
       "      <td>197</td>\n",
       "      <td>False</td>\n",
       "      <td>False</td>\n",
       "      <td>True</td>\n",
       "      <td>True</td>\n",
       "      <td>62028</td>\n",
       "      <td>Gregory Ford</td>\n",
       "      <td>3931.0</td>\n",
       "      <td>Lake Jack</td>\n",
       "      <td>10825</td>\n",
       "      <td>98280.0</td>\n",
       "    </tr>\n",
       "    <tr>\n",
       "      <td>42701</td>\n",
       "      <td>1981</td>\n",
       "      <td>1</td>\n",
       "      <td>3</td>\n",
       "      <td>2</td>\n",
       "      <td>0</td>\n",
       "      <td>1398</td>\n",
       "      <td>1401</td>\n",
       "      <td>attached</td>\n",
       "      <td>401</td>\n",
       "      <td>0</td>\n",
       "      <td>False</td>\n",
       "      <td>False</td>\n",
       "      <td>True</td>\n",
       "      <td>True</td>\n",
       "      <td>7456</td>\n",
       "      <td>Garcia View</td>\n",
       "      <td>NaN</td>\n",
       "      <td>Lake Jack</td>\n",
       "      <td>10825</td>\n",
       "      <td>98278.0</td>\n",
       "    </tr>\n",
       "    <tr>\n",
       "      <td>42702</td>\n",
       "      <td>1980</td>\n",
       "      <td>1</td>\n",
       "      <td>3</td>\n",
       "      <td>2</td>\n",
       "      <td>0</td>\n",
       "      <td>1401</td>\n",
       "      <td>1406</td>\n",
       "      <td>attached</td>\n",
       "      <td>396</td>\n",
       "      <td>0</td>\n",
       "      <td>False</td>\n",
       "      <td>False</td>\n",
       "      <td>True</td>\n",
       "      <td>True</td>\n",
       "      <td>7456</td>\n",
       "      <td>Garcia View</td>\n",
       "      <td>NaN</td>\n",
       "      <td>Lake Jack</td>\n",
       "      <td>10825</td>\n",
       "      <td>186480.0</td>\n",
       "    </tr>\n",
       "  </tbody>\n",
       "</table>\n",
       "<p>42703 rows × 20 columns</p>\n",
       "</div>"
      ],
      "text/plain": [
       "       year_built  stories  num_bedrooms  full_bathrooms  half_bathrooms  \\\n",
       "0            1978        1             4               1               1   \n",
       "1            1958        1             3               1               1   \n",
       "2            2002        1             3               2               0   \n",
       "3            2004        1             4               2               0   \n",
       "4            2006        1             4               2               0   \n",
       "...           ...      ...           ...             ...             ...   \n",
       "42698        1982        1             1               1               0   \n",
       "42699        1983        1             1               1               0   \n",
       "42700        1983        1             1               1               0   \n",
       "42701        1981        1             3               2               0   \n",
       "42702        1980        1             3               2               0   \n",
       "\n",
       "       livable_sqft  total_sqft garage_type  garage_sqft  carport_sqft  \\\n",
       "0              1689        1859    attached          508             0   \n",
       "1              1984        2002    attached          462             0   \n",
       "2              1581        1578        none            0           625   \n",
       "3              1829        2277    attached          479             0   \n",
       "4              1580        1749    attached          430             0   \n",
       "...             ...         ...         ...          ...           ...   \n",
       "42698           591         627        none            0           200   \n",
       "42699           592         624        none            0           204   \n",
       "42700           594         618        none            0           197   \n",
       "42701          1398        1401    attached          401             0   \n",
       "42702          1401        1406    attached          396             0   \n",
       "\n",
       "       has_fireplace  has_pool  has_central_heating  has_central_cooling  \\\n",
       "0               True     False                 True                 True   \n",
       "1               True     False                 True                 True   \n",
       "2              False     False                 True                 True   \n",
       "3               True     False                 True                 True   \n",
       "4               True     False                 True                 True   \n",
       "...              ...       ...                  ...                  ...   \n",
       "42698          False     False                 True                 True   \n",
       "42699          False     False                 True                 True   \n",
       "42700          False     False                 True                 True   \n",
       "42701          False     False                 True                 True   \n",
       "42702          False     False                 True                 True   \n",
       "\n",
       "       house_number       street_name  unit_number                city  \\\n",
       "0             42670    Lopez Crossing          NaN            Hallfort   \n",
       "1              5194      Gardner Park          NaN            Hallfort   \n",
       "2              4366   Harding Islands          NaN  Lake Christinaport   \n",
       "3              3302  Michelle Highway          NaN  Lake Christinaport   \n",
       "4               582        Jacob Cape          NaN  Lake Christinaport   \n",
       "...             ...               ...          ...                 ...   \n",
       "42698           562      Gregory Ford        253.0           Lake Jack   \n",
       "42699         62028      Gregory Ford       3560.0           Lake Jack   \n",
       "42700         62028      Gregory Ford       3931.0           Lake Jack   \n",
       "42701          7456       Garcia View          NaN           Lake Jack   \n",
       "42702          7456       Garcia View          NaN           Lake Jack   \n",
       "\n",
       "       zip_code  sale_price  \n",
       "0         10907    270897.0  \n",
       "1         10907    302404.0  \n",
       "2         11203   2519996.0  \n",
       "3         11203    197193.0  \n",
       "4         11203    207897.0  \n",
       "...         ...         ...  \n",
       "42698     10825     88197.0  \n",
       "42699     10825    102690.0  \n",
       "42700     10825     98280.0  \n",
       "42701     10825     98278.0  \n",
       "42702     10825    186480.0  \n",
       "\n",
       "[42703 rows x 20 columns]"
      ]
     },
     "execution_count": 34,
     "metadata": {},
     "output_type": "execute_result"
    }
   ],
   "source": [
    "df"
   ]
  },
  {
   "cell_type": "code",
   "execution_count": 36,
   "metadata": {
    "scrolled": false
   },
   "outputs": [
    {
     "data": {
      "text/plain": [
       "0        42670\n",
       "1         5194\n",
       "2         4366\n",
       "3         3302\n",
       "4          582\n",
       "         ...  \n",
       "42698      562\n",
       "42699    62028\n",
       "42700    62028\n",
       "42701     7456\n",
       "42702     7456\n",
       "Name: house_number, Length: 42703, dtype: int64"
      ]
     },
     "execution_count": 36,
     "metadata": {},
     "output_type": "execute_result"
    }
   ],
   "source": [
    "df['house_number']"
   ]
  },
  {
   "cell_type": "code",
   "execution_count": null,
   "metadata": {},
   "outputs": [],
   "source": []
  },
  {
   "cell_type": "code",
   "execution_count": 20,
   "metadata": {},
   "outputs": [],
   "source": [
    "# Remove the fields from the data set that we don't want to include in our model\n",
    "del df['house_number']\n",
    "del df['unit_number']\n",
    "del df['street_name']\n",
    "del df['zip_code']"
   ]
  },
  {
   "cell_type": "code",
   "execution_count": 21,
   "metadata": {},
   "outputs": [],
   "source": [
    "# Replace categorical data with one-hot encoded data\n",
    "features_df = pd.get_dummies(df, columns=['garage_type', 'city'])"
   ]
  },
  {
   "cell_type": "code",
   "execution_count": 22,
   "metadata": {},
   "outputs": [],
   "source": [
    "# Remove the sale price from the feature data\n",
    "del features_df['sale_price']"
   ]
  },
  {
   "cell_type": "code",
   "execution_count": 23,
   "metadata": {},
   "outputs": [
    {
     "name": "stderr",
     "output_type": "stream",
     "text": [
      "/Users/CrystalDavidson/opt/anaconda3/lib/python3.7/site-packages/ipykernel_launcher.py:2: FutureWarning: Method .as_matrix will be removed in a future version. Use .values instead.\n",
      "  \n",
      "/Users/CrystalDavidson/opt/anaconda3/lib/python3.7/site-packages/ipykernel_launcher.py:3: FutureWarning: Method .as_matrix will be removed in a future version. Use .values instead.\n",
      "  This is separate from the ipykernel package so we can avoid doing imports until\n"
     ]
    }
   ],
   "source": [
    "# Create the X and y arrays\n",
    "X = features_df.as_matrix()\n",
    "y = df['sale_price'].as_matrix()"
   ]
  },
  {
   "cell_type": "code",
   "execution_count": 24,
   "metadata": {},
   "outputs": [],
   "source": [
    "# Split the data set in a training set (70%) and a test set (30%)\n",
    "X_train, X_test, y_train, y_test = train_test_split(X, y, test_size=0.3, random_state=0)"
   ]
  },
  {
   "cell_type": "code",
   "execution_count": 25,
   "metadata": {},
   "outputs": [],
   "source": [
    "# Fit regression model\n",
    "model = ensemble.GradientBoostingRegressor(\n",
    "    n_estimators=1000,\n",
    "    learning_rate=0.1,\n",
    "    max_depth=6,\n",
    "    min_samples_leaf=9,\n",
    "    max_features=0.1,\n",
    "    loss='huber',\n",
    "    random_state=0\n",
    ")"
   ]
  },
  {
   "cell_type": "code",
   "execution_count": 26,
   "metadata": {},
   "outputs": [
    {
     "data": {
      "text/plain": [
       "GradientBoostingRegressor(alpha=0.9, criterion='friedman_mse', init=None,\n",
       "                          learning_rate=0.1, loss='huber', max_depth=6,\n",
       "                          max_features=0.1, max_leaf_nodes=None,\n",
       "                          min_impurity_decrease=0.0, min_impurity_split=None,\n",
       "                          min_samples_leaf=9, min_samples_split=2,\n",
       "                          min_weight_fraction_leaf=0.0, n_estimators=1000,\n",
       "                          n_iter_no_change=None, presort='auto', random_state=0,\n",
       "                          subsample=1.0, tol=0.0001, validation_fraction=0.1,\n",
       "                          verbose=0, warm_start=False)"
      ]
     },
     "execution_count": 26,
     "metadata": {},
     "output_type": "execute_result"
    }
   ],
   "source": [
    "model.fit(X_train, y_train)"
   ]
  },
  {
   "cell_type": "code",
   "execution_count": 27,
   "metadata": {},
   "outputs": [
    {
     "data": {
      "text/plain": [
       "['trained_house_classifier_model.pkl']"
      ]
     },
     "execution_count": 27,
     "metadata": {},
     "output_type": "execute_result"
    }
   ],
   "source": [
    "# Save the trained model to a file so we can use it in other programs\n",
    "joblib.dump(model, 'trained_house_classifier_model.pkl')"
   ]
  },
  {
   "cell_type": "code",
   "execution_count": 28,
   "metadata": {},
   "outputs": [],
   "source": [
    "# Find the error rate on the training set\n",
    "mse = mean_absolute_error(y_train, model.predict(X_train))"
   ]
  },
  {
   "cell_type": "code",
   "execution_count": 29,
   "metadata": {},
   "outputs": [
    {
     "name": "stdout",
     "output_type": "stream",
     "text": [
      "Training Set Mean Absolute Error: 48727.0015\n"
     ]
    }
   ],
   "source": [
    "print(\"Training Set Mean Absolute Error: %.4f\" % mse)"
   ]
  },
  {
   "cell_type": "code",
   "execution_count": 30,
   "metadata": {},
   "outputs": [],
   "source": [
    "# Find the error rate on the test set\n",
    "mse = mean_absolute_error(y_test, model.predict(X_test))"
   ]
  },
  {
   "cell_type": "code",
   "execution_count": 31,
   "metadata": {},
   "outputs": [
    {
     "name": "stdout",
     "output_type": "stream",
     "text": [
      "Test Set Mean Absolute Error: 59225.1333\n"
     ]
    }
   ],
   "source": [
    "print(\"Test Set Mean Absolute Error: %.4f\" % mse)"
   ]
  },
  {
   "cell_type": "code",
   "execution_count": null,
   "metadata": {},
   "outputs": [],
   "source": []
  }
 ],
 "metadata": {
  "anaconda-cloud": {},
  "kernelspec": {
   "display_name": "Python 3",
   "language": "python",
   "name": "python3"
  },
  "language_info": {
   "codemirror_mode": {
    "name": "ipython",
    "version": 3
   },
   "file_extension": ".py",
   "mimetype": "text/x-python",
   "name": "python",
   "nbconvert_exporter": "python",
   "pygments_lexer": "ipython3",
   "version": "3.7.4"
  }
 },
 "nbformat": 4,
 "nbformat_minor": 1
}
